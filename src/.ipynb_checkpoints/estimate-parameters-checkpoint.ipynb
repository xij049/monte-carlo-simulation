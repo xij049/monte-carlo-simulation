{
 "metadata": {
  "kernelspec": {
   "display_name": "Python 2",
   "language": "python",
   "name": "python2"
  },
  "language_info": {
   "codemirror_mode": {
    "name": "ipython",
    "version": 2
   },
   "file_extension": ".py",
   "mimetype": "text/x-python",
   "name": "python",
   "nbconvert_exporter": "python",
   "pygments_lexer": "ipython2",
   "version": "2.7.11"
  },
  "name": "",
  "signature": "sha256:2b845140c65685b6c405ee7baa2819c202dd07fee8f88f98548de3d06b4c0930"
 },
 "nbformat": 3,
 "nbformat_minor": 0,
 "worksheets": [
  {
   "cells": [
    {
     "cell_type": "code",
     "collapsed": false,
     "input": [
      "%pylab inline\n",
      "from scipy import stats\n",
      "import csv"
     ],
     "language": "python",
     "metadata": {},
     "outputs": [
      {
       "output_type": "stream",
       "stream": "stdout",
       "text": [
        "Populating the interactive namespace from numpy and matplotlib\n"
       ]
      }
     ],
     "prompt_number": 1
    },
    {
     "cell_type": "code",
     "collapsed": false,
     "input": [
      "# Estimate parameters\n",
      "class MCMCParameters:\n",
      "    def __init__(self, file_name):\n",
      "        def read_prices_csv(file_name, column = 4):\n",
      "            with open(file_name) as f:\n",
      "                csv_raw = csv.reader(f)\n",
      "                data = [row[column] for row in csv_raw][1:]\n",
      "                return map(float, data)[::-1]\n",
      "        def calculate_mean(data):\n",
      "            slope, intercept, r, p, std_err = stats.linregress(arange(0, len(data), 1),\n",
      "                                                               log(map(lambda x: x / data[0], data)))\n",
      "            return slope\n",
      "        def calculate_var(mean, data):\n",
      "            var = 0.0\n",
      "            for i in xrange(len(data)):\n",
      "                var += (log(data[i] / data[0]) - mean * i) ** 2\n",
      "            return var / (len(data) - 1.0)\n",
      "\n",
      "        self.prices = read_prices_csv(file_name)\n",
      "        self.init_price = self.prices[0]\n",
      "        self.last_price = self.prices[-1]\n",
      "        self.mean = calculate_mean(self.prices)\n",
      "        self.var = calculate_var(self.mean, self.prices)"
     ],
     "language": "python",
     "metadata": {},
     "outputs": [],
     "prompt_number": 2
    },
    {
     "cell_type": "code",
     "collapsed": false,
     "input": [
      "companies = ['Baidu', 'Facebook', 'Yandex']\n",
      "for c in companies:\n",
      "    file_name = '../data/historical/' + c + '.csv'\n",
      "    print c, '- Estimation of the parameters for the historical data'\n",
      "    print '---------------------------------------------------------------'\n",
      "    s = MCMCParameters(file_name)\n",
      "    print 'Initial price:', s.init_price\n",
      "    print 'Last price:', s.last_price\n",
      "    print 'Log-mean:', s.mean\n",
      "    print 'Log-var:', s.var\n",
      "    print"
     ],
     "language": "python",
     "metadata": {},
     "outputs": [
      {
       "output_type": "stream",
       "stream": "stdout",
       "text": [
        "Baidu - Estimation of the parameters for the historical data\n",
        "---------------------------------------------------------------\n",
        "Initial price:"
       ]
      },
      {
       "output_type": "stream",
       "stream": "stdout",
       "text": [
        " 207.330002\n",
        "Last price: 173.740005\n",
        "Log-mean: -0.000419601957843\n",
        "Log-var: 0.0214357830351\n",
        "\n",
        "Facebook - Estimation of the parameters for the historical data\n",
        "---------------------------------------------------------------\n",
        "Initial price: 83.300003\n",
        "Last price: 118.470001\n",
        "Log-mean: 0.00135277973892\n",
        "Log-var: 0.00401862250701\n",
        "\n",
        "Yandex - Estimation of the parameters for the historical data\n",
        "---------------------------------------------------------------\n",
        "Initial price: 15.45\n",
        "Last price: 20.889999\n",
        "Log-mean: -7.9067189593e-05\n",
        "Log-var: 0.0307840480595\n",
        "\n"
       ]
      }
     ],
     "prompt_number": 3
    },
    {
     "cell_type": "code",
     "collapsed": false,
     "input": [],
     "language": "python",
     "metadata": {},
     "outputs": [],
     "prompt_number": 3
    }
   ],
   "metadata": {}
  }
 ]
}